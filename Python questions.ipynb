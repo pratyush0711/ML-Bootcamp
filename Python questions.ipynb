{
 "cells": [
  {
   "cell_type": "markdown",
   "id": "4c0d6ae5-d573-4694-97bc-3b45bd726c02",
   "metadata": {},
   "source": [
    "# WAP to accept two numbers from the user and display their sum"
   ]
  },
  {
   "cell_type": "code",
   "execution_count": 1,
   "id": "4a07868a-4552-46c3-9655-710a69f27f56",
   "metadata": {},
   "outputs": [
    {
     "name": "stdin",
     "output_type": "stream",
     "text": [
      "first number: 67\n",
      "second number: 63\n"
     ]
    },
    {
     "name": "stdout",
     "output_type": "stream",
     "text": [
      "130\n"
     ]
    }
   ],
   "source": [
    "a=int(input('first number:'))\n",
    "b=int(input('second number:'))\n",
    "c=a+b\n",
    "print(c)"
   ]
  },
  {
   "cell_type": "markdown",
   "id": "f8fa7394-bcb4-4434-820b-9b5508410d16",
   "metadata": {},
   "source": [
    "# WAP to accept radius of a Circle from the user and calculate area and circumference"
   ]
  },
  {
   "cell_type": "code",
   "execution_count": 4,
   "id": "c072310a-af78-448b-b0fb-b81508b7d84a",
   "metadata": {},
   "outputs": [
    {
     "name": "stdin",
     "output_type": "stream",
     "text": [
      "enter radius: 5\n"
     ]
    },
    {
     "name": "stdout",
     "output_type": "stream",
     "text": [
      "78.53981633974483 31.41592653589793\n"
     ]
    }
   ],
   "source": [
    "from math import pi\n",
    "r=int(input('enter radius:'))\n",
    "area= pi*(r**2)\n",
    "circumference= 2*pi*r\n",
    "print(area, circumference)"
   ]
  },
  {
   "cell_type": "markdown",
   "id": "ccac24c2-f55c-4e7e-b3c9-1c63d25da96f",
   "metadata": {},
   "source": [
    "# WAP to accept roll number , grade and percentage as input from the user and display it back"
   ]
  },
  {
   "cell_type": "code",
   "execution_count": 7,
   "id": "7a04424f-94e4-4063-adf4-831705ffd7b5",
   "metadata": {},
   "outputs": [
    {
     "name": "stdin",
     "output_type": "stream",
     "text": [
      "Enter Roll number,Grade,Percentage 74 S 83.3\n"
     ]
    },
    {
     "name": "stdout",
     "output_type": "stream",
     "text": [
      "Rollno.: 74\n",
      "Grade: S\n",
      "Percentage: 83.3\n"
     ]
    }
   ],
   "source": [
    "a,b,c=input('Enter Roll number,Grade,Percentage').split()\n",
    "print('Rollno.:',a)\n",
    "print('Grade:',b)\n",
    "print('Percentage:',c)"
   ]
  },
  {
   "cell_type": "markdown",
   "id": "9a04c463-f4a8-4be0-a045-0fc8af5f50c5",
   "metadata": {},
   "source": [
    "# Write a program that asks the user to enter his/her name and age. Print out a message , displaying the user’s name along with the year in which they will turn 100 years old"
   ]
  },
  {
   "cell_type": "code",
   "execution_count": 4,
   "id": "3faaf5cc-7eba-4133-b86d-a6bec0898313",
   "metadata": {},
   "outputs": [
    {
     "name": "stdin",
     "output_type": "stream",
     "text": [
      "What is your name: pratyush\n",
      "How old are you: 23\n"
     ]
    },
    {
     "name": "stdout",
     "output_type": "stream",
     "text": [
      "Hello pratyush\n",
      "You will be 100 years old in 2099\n"
     ]
    }
   ],
   "source": [
    "a=input('What is your name:')\n",
    "b=int(input('How old are you:'))\n",
    "c='Hello'\n",
    "print(c+' '+a)\n",
    "d=2122-b\n",
    "e=str(d)\n",
    "print('You will be 100 years old in'+' '+e)"
   ]
  },
  {
   "cell_type": "markdown",
   "id": "cafcbde3-0848-455f-aca9-e8a7a0bbd105",
   "metadata": {},
   "source": [
    "# Write a program that asks the user to input 2 integers and adds them . Accept both the numbers in a single line only"
   ]
  },
  {
   "cell_type": "code",
   "execution_count": 1,
   "id": "e53780b5-d3ce-4d8c-9f8b-a03628a5a334",
   "metadata": {},
   "outputs": [
    {
     "name": "stdin",
     "output_type": "stream",
     "text": [
      "enter 2 no. 244 588\n"
     ]
    },
    {
     "name": "stdout",
     "output_type": "stream",
     "text": [
      "832\n"
     ]
    }
   ],
   "source": [
    "a,b=input('enter 2 no.').split()\n",
    "x=int (a)+int (b)\n",
    "print(x)"
   ]
  },
  {
   "cell_type": "markdown",
   "id": "738a6586-fad1-485b-96cb-4bf672cd3a3d",
   "metadata": {},
   "source": [
    "# Write a Python program which accepts the user's first and last name and print them in reverse order with a space between them."
   ]
  },
  {
   "cell_type": "code",
   "execution_count": 8,
   "id": "b0ac1d0a-93c4-4f10-99c3-caa8bf170a9b",
   "metadata": {},
   "outputs": [
    {
     "name": "stdin",
     "output_type": "stream",
     "text": [
      "user first name: pratyush\n",
      "user last name: anand\n"
     ]
    },
    {
     "name": "stdout",
     "output_type": "stream",
     "text": [
      "dnana hsuytarp\n"
     ]
    }
   ],
   "source": [
    "a=input('user first name:')\n",
    "b=input('user last name:')\n",
    "c=b[::-1]\n",
    "d=a[::-1]\n",
    "print(c+' '+d)\n"
   ]
  },
  {
   "cell_type": "markdown",
   "id": "109cd27d-0ec3-40a8-99ad-7b0ea100783b",
   "metadata": {},
   "source": [
    "# WAP to accept an integer from the user and check whether it is an even or odd"
   ]
  },
  {
   "cell_type": "code",
   "execution_count": 9,
   "id": "be98f55d-1b8c-4480-8ba5-9c11db033879",
   "metadata": {},
   "outputs": [
    {
     "name": "stdin",
     "output_type": "stream",
     "text": [
      "enter number 78\n"
     ]
    },
    {
     "name": "stdout",
     "output_type": "stream",
     "text": [
      "even\n"
     ]
    }
   ],
   "source": [
    "a= int(input('enter number'))\n",
    "if a%2==0:\n",
    "    print('even')\n",
    "else:\n",
    "     print('odd')"
   ]
  },
  {
   "cell_type": "markdown",
   "id": "59fc6eb1-e7f6-4935-846f-cec857ccd4f8",
   "metadata": {},
   "source": [
    "# WAP to accept a character from the user and check whether it is a capital letter or small letter. Assume user will input only alphabets"
   ]
  },
  {
   "cell_type": "code",
   "execution_count": 10,
   "id": "b1ba66d5-d3f2-48a9-8316-082fe87ff22a",
   "metadata": {},
   "outputs": [
    {
     "name": "stdin",
     "output_type": "stream",
     "text": [
      "any character S\n"
     ]
    },
    {
     "name": "stdout",
     "output_type": "stream",
     "text": [
      "S is a capital letter\n"
     ]
    }
   ],
   "source": [
    "x=input('any character')\n",
    "if 'A'<=x<='Z':\n",
    "    print(x, 'is a capital letter')\n",
    "else:\n",
    "    print(x, 'is a small letter')\n"
   ]
  },
  {
   "cell_type": "markdown",
   "id": "1d90f25f-6e71-4fe5-8a2e-1c588691b260",
   "metadata": {},
   "source": [
    "# WAP to accept a character from the user and check whether it is a capital letter or small letter or a digit or some special symbol"
   ]
  },
  {
   "cell_type": "code",
   "execution_count": 31,
   "id": "3cdf8742-b454-4cb8-b804-f6600e4fe847",
   "metadata": {},
   "outputs": [
    {
     "name": "stdin",
     "output_type": "stream",
     "text": [
      "Enter a character:  $\n"
     ]
    },
    {
     "name": "stdout",
     "output_type": "stream",
     "text": [
      "The character is a special symbol.\n"
     ]
    }
   ],
   "source": [
    "ch = input(\"Enter a character: \")\n",
    "if ch.isupper():\n",
    "  print(\"The character is a capital letter.\")\n",
    "elif ch.islower():\n",
    "  print(\"The character is a small letter.\")\n",
    "elif ch.isdigit():\n",
    "  print(\"The character is a digit.\")\n",
    "else:\n",
    "  print(\"The character is a special symbol.\")"
   ]
  },
  {
   "cell_type": "markdown",
   "id": "e146cc1e-e15c-4cc7-a323-39d16e39c248",
   "metadata": {},
   "source": [
    "# WAP to accept 3 integers from the user and without using any logical operator and cascading of relational operators , find out the greatest number amongst them"
   ]
  },
  {
   "cell_type": "code",
   "execution_count": 11,
   "id": "6a8c63d0-cd3d-464c-b398-899551449353",
   "metadata": {},
   "outputs": [
    {
     "name": "stdin",
     "output_type": "stream",
     "text": [
      "enter first number: 12\n",
      "enter second number: 15\n",
      "enter third number: 16\n"
     ]
    },
    {
     "name": "stdout",
     "output_type": "stream",
     "text": [
      "c is the greatest no.\n"
     ]
    }
   ],
   "source": [
    "a=int(input('enter first number:'))\n",
    "b=int(input('enter second number:'))\n",
    "c=int(input('enter third number:'))\n",
    "if (a>b):\n",
    "    if(a>c):\n",
    "      print('a is the greatest no.')\n",
    "if (b>a):\n",
    "    if (b>c):\n",
    "     print('b is the greatest no.')\n",
    "if (c>a):\n",
    "    if(c>b):\n",
    "        print('c is the greatest no.')"
   ]
  },
  {
   "cell_type": "markdown",
   "id": "09adeeef-08c6-4472-a653-747106f0a93e",
   "metadata": {},
   "source": [
    "# WAP to accept a year from the user and check whether it is a leap year or not.\n",
    "An year is a leap year if:\n",
    "It is exactly divisible by 4 and at the same time not\n",
    "divisible by 100\n",
    "OR\n",
    "It is divisible by 400\n"
   ]
  },
  {
   "cell_type": "code",
   "execution_count": 1,
   "id": "f14b1bbe-b1ff-427d-9146-1b83f70f87c3",
   "metadata": {},
   "outputs": [
    {
     "name": "stdin",
     "output_type": "stream",
     "text": [
      "Enter a year:  2021\n"
     ]
    },
    {
     "name": "stdout",
     "output_type": "stream",
     "text": [
      "The year is not a leap year.\n"
     ]
    }
   ],
   "source": [
    "year = int(input(\"Enter a year: \"))\n",
    "if year % 4 == 0 and year % 100 != 0:\n",
    "  print(\"The year is a leap year.\")\n",
    "elif year % 400 == 0:\n",
    "  print(\"The year is a leap year.\")\n",
    "else:\n",
    "  print(\"The year is not a leap year.\")"
   ]
  },
  {
   "cell_type": "markdown",
   "id": "1621f634-b3d7-4d8c-8086-450b6a83b47b",
   "metadata": {},
   "source": [
    "# Write a program to continuously accept integers from the user until the user types 0 and as soon as 0 is entered display sum of all the nos entered before 0\n",
    "    "
   ]
  },
  {
   "cell_type": "code",
   "execution_count": 16,
   "id": "0eec425b-d423-4505-9304-07a27cbb3230",
   "metadata": {},
   "outputs": [
    {
     "name": "stdin",
     "output_type": "stream",
     "text": [
      "Enter an integer (0 to exit):  5\n",
      "Enter an integer (0 to exit):  65\n",
      "Enter an integer (0 to exit):  75\n",
      "Enter an integer (0 to exit):  0\n"
     ]
    },
    {
     "name": "stdout",
     "output_type": "stream",
     "text": [
      "The sum is 145\n"
     ]
    }
   ],
   "source": [
    "a = 0\n",
    "while True:\n",
    "    x = int(input(\"Enter an integer (0 to exit): \"))\n",
    "    if x == 0:\n",
    "        break\n",
    "    a += x\n",
    "\n",
    "print(\"The sum is\", a)\n"
   ]
  },
  {
   "cell_type": "markdown",
   "id": "e4251555-c4a8-4c57-9805-21d3a27637e3",
   "metadata": {},
   "source": [
    " # Write a program to continuously accept integers from the user until the user types 0 and as soon as 0 is entered display sum of all the nos entered before 0\n",
    " Note:Modify the previous code so that if the user inputs a negative integer , your program should ignore it .\n",
    " "
   ]
  },
  {
   "cell_type": "code",
   "execution_count": 17,
   "id": "ad996509-38d8-4b3c-b739-1c8d853224a6",
   "metadata": {},
   "outputs": [
    {
     "name": "stdin",
     "output_type": "stream",
     "text": [
      "Enter an integer (0 to exit):  5\n",
      "Enter an integer (0 to exit):  5\n",
      "Enter an integer (0 to exit):  -5\n",
      "Enter an integer (0 to exit):  0\n"
     ]
    },
    {
     "name": "stdout",
     "output_type": "stream",
     "text": [
      "The sum is 10\n"
     ]
    }
   ],
   "source": [
    "a = 0\n",
    "\n",
    "while True:\n",
    "    x = int(input(\"Enter an integer (0 to exit): \"))\n",
    "    if x<0:\n",
    "        continue\n",
    "    if x == 0:\n",
    "        break\n",
    "    a += x\n",
    "\n",
    "print(\"The sum is\", a)"
   ]
  },
  {
   "cell_type": "markdown",
   "id": "35012b2f-ad21-4852-8b83-8c6d7650525c",
   "metadata": {},
   "source": [
    "# Write a program to accept a string from the user and display it vertically but don’t display the vowels in it"
   ]
  },
  {
   "cell_type": "code",
   "execution_count": 18,
   "id": "04a2c2ef-b24b-432f-9618-5d3ce56d61f9",
   "metadata": {},
   "outputs": [
    {
     "name": "stdin",
     "output_type": "stream",
     "text": [
      "enter a word: Pratyush Anand\n"
     ]
    },
    {
     "name": "stdout",
     "output_type": "stream",
     "text": [
      "P\n",
      "r\n",
      "t\n",
      "y\n",
      "s\n",
      "h\n",
      " \n",
      "n\n",
      "n\n",
      "d\n"
     ]
    }
   ],
   "source": [
    "a= input('enter a word:')\n",
    "i=0\n",
    "while i<len(a):\n",
    "    if a[i] not in 'aeiouAEIOU':\n",
    "        print(a[i])\n",
    "    i+=1"
   ]
  },
  {
   "cell_type": "markdown",
   "id": "2a657911-0e3d-4777-ba38-2f67fc983ca2",
   "metadata": {},
   "source": [
    "# Write a program to accept an integer from the user and display the sum of all the numbers from 1 to that number."
   ]
  },
  {
   "cell_type": "code",
   "execution_count": 23,
   "id": "ad06f4ab-4284-4864-850e-8786a013412e",
   "metadata": {},
   "outputs": [
    {
     "name": "stdin",
     "output_type": "stream",
     "text": [
      "Enter a no. 6\n"
     ]
    },
    {
     "name": "stdout",
     "output_type": "stream",
     "text": [
      "the sum is : 21\n"
     ]
    }
   ],
   "source": [
    "x=int(input('Enter a no.'))\n",
    "sum=0\n",
    "for i in range(1,x+1):\n",
    "    sum=sum+i\n",
    "    \n",
    "print('the sum is :',sum)"
   ]
  },
  {
   "cell_type": "markdown",
   "id": "d2403324-8a1c-4788-b389-4f46ed13c931",
   "metadata": {},
   "source": [
    "# Write a program to accept an integer from the user and calculate its factorial"
   ]
  },
  {
   "cell_type": "code",
   "execution_count": 24,
   "id": "ffe3e313-c141-4768-a5cb-8b519fc66088",
   "metadata": {},
   "outputs": [
    {
     "name": "stdin",
     "output_type": "stream",
     "text": [
      "Enter a no. 7\n"
     ]
    },
    {
     "name": "stdout",
     "output_type": "stream",
     "text": [
      "the factorial is : 5040\n"
     ]
    }
   ],
   "source": [
    "x=int(input('Enter a no.'))\n",
    "factorial=1\n",
    "for i in range(1,x+1):\n",
    "    factorial=factorial*i\n",
    "    \n",
    "print('the factorial is :',factorial)"
   ]
  },
  {
   "cell_type": "markdown",
   "id": "7e6d7ea8-9a1a-4a11-a192-8f181b610d36",
   "metadata": {},
   "source": [
    "# Write a program to accept an integer from the user and display all the numbers from 1 to that number. Repeat the process until the user enters 0."
   ]
  },
  {
   "cell_type": "code",
   "execution_count": 26,
   "id": "e45421ce-6bd8-44e1-a508-d5c0db35e12a",
   "metadata": {},
   "outputs": [
    {
     "name": "stdin",
     "output_type": "stream",
     "text": [
      "Enter a number (0 to exit):  5\n"
     ]
    },
    {
     "name": "stdout",
     "output_type": "stream",
     "text": [
      "1\n",
      "2\n",
      "3\n",
      "4\n",
      "5\n"
     ]
    },
    {
     "name": "stdin",
     "output_type": "stream",
     "text": [
      "Enter a number (0 to exit):  0\n"
     ]
    }
   ],
   "source": [
    "while True:\n",
    "    x = int(input(\"Enter a number (0 to exit): \"))\n",
    "    if x == 0:\n",
    "        break\n",
    "    for i in range(1, x+1):\n",
    "        print(i)\n"
   ]
  },
  {
   "cell_type": "markdown",
   "id": "faa87262-8a09-4147-a4de-7ae5ded5ffed",
   "metadata": {},
   "source": [
    "# Printing Patterns"
   ]
  },
  {
   "cell_type": "code",
   "execution_count": 28,
   "id": "6f4e362e-d64a-4c1d-adbe-845103bcca03",
   "metadata": {},
   "outputs": [
    {
     "name": "stdout",
     "output_type": "stream",
     "text": [
      "* * * \n",
      "* * * \n",
      "* * * \n",
      "* * * \n"
     ]
    }
   ],
   "source": [
    "for i in range(4):\n",
    "    for j in range(3):\n",
    "        print('*',end=' ')\n",
    "    print()\n",
    "        "
   ]
  },
  {
   "cell_type": "code",
   "execution_count": 29,
   "id": "60937d68-9257-4966-80b2-9d20a87b78d0",
   "metadata": {},
   "outputs": [
    {
     "name": "stdout",
     "output_type": "stream",
     "text": [
      "* \n",
      "* * \n",
      "* * * \n",
      "* * * * \n"
     ]
    }
   ],
   "source": [
    "for i in range(4):\n",
    "    for j in range(i+1):\n",
    "        print('*',end=' ')\n",
    "    print()"
   ]
  },
  {
   "cell_type": "code",
   "execution_count": 30,
   "id": "d5cbcf52-a977-485c-8a95-27059b50fd4f",
   "metadata": {},
   "outputs": [
    {
     "name": "stdout",
     "output_type": "stream",
     "text": [
      "* * * * \n",
      "* * * \n",
      "* * \n",
      "* \n"
     ]
    }
   ],
   "source": [
    "for i in range(4):\n",
    "    for j in range(i,4):\n",
    "        print('*',end=' ')\n",
    "    print()"
   ]
  },
  {
   "cell_type": "markdown",
   "id": "29657f62-4775-4b39-a8ac-c818767da8a2",
   "metadata": {},
   "source": [
    "# Guessing game"
   ]
  },
  {
   "cell_type": "code",
   "execution_count": 35,
   "id": "a1ddb713-7b85-41d9-a94f-b82b45d72788",
   "metadata": {},
   "outputs": [
    {
     "data": {
      "text/plain": [
       "25"
      ]
     },
     "execution_count": 35,
     "metadata": {},
     "output_type": "execute_result"
    }
   ],
   "source": [
    "# TO generate a random integer\n",
    "import random\n",
    "\n",
    "def generate_random_integer():\n",
    "    return random.randint(1, 100)\n",
    "\n",
    "secret_number = generate_random_integer()\n",
    "secret_number"
   ]
  },
  {
   "cell_type": "code",
   "execution_count": 37,
   "id": "c82abe77-a813-4e70-82ce-8bce92f5def3",
   "metadata": {},
   "outputs": [
    {
     "name": "stdin",
     "output_type": "stream",
     "text": [
      "Guess the number:\n",
      " 15\n"
     ]
    },
    {
     "name": "stdout",
     "output_type": "stream",
     "text": [
      "your guess was too low\n"
     ]
    },
    {
     "name": "stdin",
     "output_type": "stream",
     "text": [
      "Guess the number:\n",
      " 17\n"
     ]
    },
    {
     "name": "stdout",
     "output_type": "stream",
     "text": [
      "your guess was too low\n"
     ]
    },
    {
     "name": "stdin",
     "output_type": "stream",
     "text": [
      "Guess the number:\n",
      " 25\n"
     ]
    },
    {
     "name": "stdout",
     "output_type": "stream",
     "text": [
      "Congratulations you guessed it right\n"
     ]
    }
   ],
   "source": [
    "while True:\n",
    "    guess=int(input('Guess the number:\\n'))\n",
    "    if guess<secret_number:\n",
    "        print('your guess was too low')\n",
    "    elif guess>secret_number:\n",
    "        print('your guess was too high')\n",
    "    else:\n",
    "        print('Congratulations you guessed it right')\n",
    "        break\n",
    "        \n",
    "    "
   ]
  },
  {
   "cell_type": "code",
   "execution_count": null,
   "id": "b9650f40-7410-4a57-b287-9df3b1495c2e",
   "metadata": {},
   "outputs": [],
   "source": []
  }
 ],
 "metadata": {
  "kernelspec": {
   "display_name": "Python 3 (ipykernel)",
   "language": "python",
   "name": "python3"
  },
  "language_info": {
   "codemirror_mode": {
    "name": "ipython",
    "version": 3
   },
   "file_extension": ".py",
   "mimetype": "text/x-python",
   "name": "python",
   "nbconvert_exporter": "python",
   "pygments_lexer": "ipython3",
   "version": "3.10.6"
  }
 },
 "nbformat": 4,
 "nbformat_minor": 5
}
