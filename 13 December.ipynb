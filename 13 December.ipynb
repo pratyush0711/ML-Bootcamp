{
 "cells": [
  {
   "cell_type": "code",
   "execution_count": 1,
   "id": "66559763-4a72-442d-bbcb-f82ed013198d",
   "metadata": {},
   "outputs": [],
   "source": [
    "a='python'"
   ]
  },
  {
   "cell_type": "code",
   "execution_count": 2,
   "id": "e41fbc25-1e50-4c91-8760-67a2074af8eb",
   "metadata": {},
   "outputs": [
    {
     "data": {
      "text/plain": [
       "'o'"
      ]
     },
     "execution_count": 2,
     "metadata": {},
     "output_type": "execute_result"
    }
   ],
   "source": [
    "a[4]"
   ]
  },
  {
   "cell_type": "code",
   "execution_count": 3,
   "id": "55fbd98e-c1ac-42ae-b177-5cc8dadd3033",
   "metadata": {},
   "outputs": [
    {
     "data": {
      "text/plain": [
       "'n'"
      ]
     },
     "execution_count": 3,
     "metadata": {},
     "output_type": "execute_result"
    }
   ],
   "source": [
    "a[-1]"
   ]
  },
  {
   "cell_type": "markdown",
   "id": "d7e7f44f-73c0-4997-b748-5b25fb90c9c3",
   "metadata": {},
   "source": [
    "# CONCATENATION"
   ]
  },
  {
   "cell_type": "code",
   "execution_count": 4,
   "id": "2a70cdb8-9080-4324-aaad-375d003c0ff4",
   "metadata": {},
   "outputs": [],
   "source": [
    "a='pratyush'\n",
    "b='anand'"
   ]
  },
  {
   "cell_type": "code",
   "execution_count": 5,
   "id": "00ea38cf-99c4-484c-87c0-832a346c89be",
   "metadata": {},
   "outputs": [
    {
     "data": {
      "text/plain": [
       "'pratyush anand'"
      ]
     },
     "execution_count": 5,
     "metadata": {},
     "output_type": "execute_result"
    }
   ],
   "source": [
    "a+' '+b"
   ]
  },
  {
   "cell_type": "code",
   "execution_count": 6,
   "id": "5edd6f1b-5e7f-494a-bd6a-b09597a0f6a3",
   "metadata": {},
   "outputs": [],
   "source": [
    "a='Industry'"
   ]
  },
  {
   "cell_type": "code",
   "execution_count": 7,
   "id": "b956a181-5272-4429-9b76-3defacaa6898",
   "metadata": {},
   "outputs": [
    {
     "data": {
      "text/plain": [
       "'dust'"
      ]
     },
     "execution_count": 7,
     "metadata": {},
     "output_type": "execute_result"
    }
   ],
   "source": [
    "a[2:6]"
   ]
  },
  {
   "cell_type": "code",
   "execution_count": 8,
   "id": "7f353035-a908-4b9d-8745-907bed4bc365",
   "metadata": {},
   "outputs": [],
   "source": [
    "x='python'"
   ]
  },
  {
   "cell_type": "code",
   "execution_count": 10,
   "id": "b0c0e5d2-f3c6-492b-97a5-cfaf0b1e33b2",
   "metadata": {},
   "outputs": [
    {
     "data": {
      "text/plain": [
       "'t'"
      ]
     },
     "execution_count": 10,
     "metadata": {},
     "output_type": "execute_result"
    }
   ],
   "source": [
    "x[2:3]"
   ]
  },
  {
   "cell_type": "code",
   "execution_count": 12,
   "id": "2155adeb-7aba-4aa6-b8d0-6e51d72ee2d5",
   "metadata": {},
   "outputs": [
    {
     "data": {
      "text/plain": [
       "'python'"
      ]
     },
     "execution_count": 12,
     "metadata": {},
     "output_type": "execute_result"
    }
   ],
   "source": [
    "x[:]"
   ]
  },
  {
   "cell_type": "code",
   "execution_count": 13,
   "id": "fa751e07-d270-43a7-84e4-81be9e164d14",
   "metadata": {},
   "outputs": [],
   "source": [
    "y='welcome'"
   ]
  },
  {
   "cell_type": "code",
   "execution_count": 14,
   "id": "ead75b1f-08f2-41b9-86e7-a3948d884eea",
   "metadata": {},
   "outputs": [
    {
     "data": {
      "text/plain": [
       "'com'"
      ]
     },
     "execution_count": 14,
     "metadata": {},
     "output_type": "execute_result"
    }
   ],
   "source": [
    "y[-4:-1]"
   ]
  },
  {
   "cell_type": "code",
   "execution_count": 16,
   "id": "2140fe3a-b0b0-40ff-ae3b-5fd08f60bc28",
   "metadata": {},
   "outputs": [
    {
     "data": {
      "text/plain": [
       "''"
      ]
     },
     "execution_count": 16,
     "metadata": {},
     "output_type": "execute_result"
    }
   ],
   "source": [
    "y[-1:-4]"
   ]
  },
  {
   "cell_type": "code",
   "execution_count": 17,
   "id": "18f5dde4-ee3b-463a-a254-0eaa1afc6ed0",
   "metadata": {},
   "outputs": [],
   "source": [
    "z='pratyushanand'"
   ]
  },
  {
   "cell_type": "code",
   "execution_count": 18,
   "id": "f4d717c2-6304-44b0-9961-ec4ae5e56010",
   "metadata": {},
   "outputs": [
    {
     "data": {
      "text/plain": [
       "'paysaad'"
      ]
     },
     "execution_count": 18,
     "metadata": {},
     "output_type": "execute_result"
    }
   ],
   "source": [
    "z[:13:2]"
   ]
  },
  {
   "cell_type": "code",
   "execution_count": 19,
   "id": "72a62952-1993-475f-9cd1-b6c17b71e2a2",
   "metadata": {},
   "outputs": [
    {
     "data": {
      "text/plain": [
       "'ptsnd'"
      ]
     },
     "execution_count": 19,
     "metadata": {},
     "output_type": "execute_result"
    }
   ],
   "source": [
    "z[:13:3]"
   ]
  },
  {
   "cell_type": "code",
   "execution_count": 1,
   "id": "f607e3dd-33cf-4cd0-a0b1-5009186c9b5a",
   "metadata": {},
   "outputs": [
    {
     "data": {
      "text/plain": [
       "'I am learning data science'"
      ]
     },
     "execution_count": 1,
     "metadata": {},
     "output_type": "execute_result"
    }
   ],
   "source": [
    "a='I am learning data science'\n",
    "a"
   ]
  },
  {
   "cell_type": "code",
   "execution_count": 2,
   "id": "483d7922-14c4-4c1c-9b46-9ef0234977bb",
   "metadata": {},
   "outputs": [
    {
     "data": {
      "text/plain": [
       "'ecneics atad gninrael'"
      ]
     },
     "execution_count": 2,
     "metadata": {},
     "output_type": "execute_result"
    }
   ],
   "source": [
    "a[-1:-22:-1]"
   ]
  },
  {
   "cell_type": "code",
   "execution_count": 3,
   "id": "100c3641-a339-48b2-9de6-05eb8167c4e0",
   "metadata": {},
   "outputs": [],
   "source": [
    "9c='Water'"
   ]
  },
  {
   "cell_type": "code",
   "execution_count": 4,
   "id": "c070a8fc-8aab-4dd7-9ea8-6e950854fdd9",
   "metadata": {},
   "outputs": [
    {
     "data": {
      "text/plain": [
       "'retaW'"
      ]
     },
     "execution_count": 4,
     "metadata": {},
     "output_type": "execute_result"
    }
   ],
   "source": [
    "c[::-1]"
   ]
  },
  {
   "cell_type": "code",
   "execution_count": 5,
   "id": "b9622936-8bc7-460f-b51f-688464c679bd",
   "metadata": {},
   "outputs": [
    {
     "name": "stdin",
     "output_type": "stream",
     "text": [
      "first number: 16\n",
      "second number: 98\n"
     ]
    },
    {
     "name": "stdout",
     "output_type": "stream",
     "text": [
      "114\n"
     ]
    }
   ],
   "source": [
    "a=int(input('first number:'))\n",
    "b=int(input('second number:'))\n",
    "c=a+b\n",
    "print(c)"
   ]
  },
  {
   "cell_type": "code",
   "execution_count": 15,
   "id": "276d7a30-089f-4ead-8f1a-38dc98ab505a",
   "metadata": {},
   "outputs": [
    {
     "name": "stdin",
     "output_type": "stream",
     "text": [
      "What is your name?: P\n",
      "How old are you?: 24\n"
     ]
    },
    {
     "name": "stdout",
     "output_type": "stream",
     "text": [
      "Hello P\n",
      "You will be 100 years old in 2098\n"
     ]
    }
   ],
   "source": [
    "a=input('What is your name?:')\n",
    "b=int(input('How old are you?:'))\n",
    "c='Hello'\n",
    "print(c+' '+a)\n",
    "d=2122-b\n",
    "e=str(d)\n",
    "print('You will be 100 years old in'+' '+e)"
   ]
  },
  {
   "cell_type": "code",
   "execution_count": 17,
   "id": "02d40acb-92ef-4f44-8c48-d68be9978d5f",
   "metadata": {},
   "outputs": [
    {
     "name": "stdin",
     "output_type": "stream",
     "text": [
      "user first name: pratyush\n",
      "user last name: anand\n"
     ]
    },
    {
     "name": "stdout",
     "output_type": "stream",
     "text": [
      "dnana hsuytarp\n"
     ]
    }
   ],
   "source": [
    "a=input('user first name:')\n",
    "b=input('user last name:')\n",
    "c=b[::-1]\n",
    "d=a[::-1]\n",
    "print(c+' '+d)\n"
   ]
  },
  {
   "cell_type": "code",
   "execution_count": null,
   "id": "7b819aae-b0e8-4ba3-a79a-6879a97c2e77",
   "metadata": {},
   "outputs": [],
   "source": []
  }
 ],
 "metadata": {
  "kernelspec": {
   "display_name": "Python 3 (ipykernel)",
   "language": "python",
   "name": "python3"
  },
  "language_info": {
   "codemirror_mode": {
    "name": "ipython",
    "version": 3
   },
   "file_extension": ".py",
   "mimetype": "text/x-python",
   "name": "python",
   "nbconvert_exporter": "python",
   "pygments_lexer": "ipython3",
   "version": "3.10.6"
  }
 },
 "nbformat": 4,
 "nbformat_minor": 5
}
