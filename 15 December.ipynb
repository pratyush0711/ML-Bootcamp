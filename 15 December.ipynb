{
 "cells": [
  {
   "cell_type": "markdown",
   "id": "c51899a8-bc09-45aa-9b5d-a4b20a88cffb",
   "metadata": {},
   "source": [
    "# Format Function"
   ]
  },
  {
   "cell_type": "code",
   "execution_count": null,
   "id": "02205cd0-362c-414e-8810-bb8600f6bcd0",
   "metadata": {},
   "outputs": [],
   "source": [
    "a=100\n",
    "b=200"
   ]
  },
  {
   "cell_type": "code",
   "execution_count": 4,
   "id": "213f5299-e6cc-49dd-a638-587ad4288931",
   "metadata": {},
   "outputs": [
    {
     "name": "stdout",
     "output_type": "stream",
     "text": [
      "value of a is 100 value of b is 200\n"
     ]
    }
   ],
   "source": [
    "print('value of a is {} value of b is {}'.format(a,b))"
   ]
  },
  {
   "cell_type": "code",
   "execution_count": 5,
   "id": "fc18d4cb-f03d-43f1-abe8-960d59336abd",
   "metadata": {},
   "outputs": [
    {
     "name": "stdout",
     "output_type": "stream",
     "text": [
      "value of a is 100 value of b is 200\n"
     ]
    }
   ],
   "source": [
    "print('value of a is',a,'value of b is',b)"
   ]
  },
  {
   "cell_type": "code",
   "execution_count": 8,
   "id": "5e83c3d8-4bd5-4f29-a0b4-dff6b1445b65",
   "metadata": {},
   "outputs": [],
   "source": [
    "name='Pratyush'\n",
    "age=24"
   ]
  },
  {
   "cell_type": "code",
   "execution_count": 10,
   "id": "9f9ba2b0-8b6d-4fc2-a759-d84567b3655b",
   "metadata": {},
   "outputs": [
    {
     "name": "stdout",
     "output_type": "stream",
     "text": [
      "name is Pratyush age is 24\n"
     ]
    }
   ],
   "source": [
    "print('name is {} age is {}'.format(name,age))"
   ]
  },
  {
   "cell_type": "markdown",
   "id": "04fd0728-fe8d-46d6-bc97-8b02c9c59a49",
   "metadata": {},
   "source": [
    "# Format Specifier"
   ]
  },
  {
   "cell_type": "code",
   "execution_count": 6,
   "id": "b3b14c4f-04d6-4047-a3c1-95d7338422d7",
   "metadata": {},
   "outputs": [
    {
     "name": "stdout",
     "output_type": "stream",
     "text": [
      "value of a is 100 value of b is 200\n"
     ]
    }
   ],
   "source": [
    "print('value of a is %d'%a,'value of b is %d'%b)"
   ]
  },
  {
   "cell_type": "markdown",
   "id": "44540a67-95f1-41cb-aabd-aa4d2bd59053",
   "metadata": {},
   "source": [
    "# Decision Control Statements"
   ]
  },
  {
   "cell_type": "code",
   "execution_count": 11,
   "id": "61688cc0-369c-4c3b-bfd0-2d03b9459b7f",
   "metadata": {},
   "outputs": [],
   "source": [
    "x=50"
   ]
  },
  {
   "cell_type": "code",
   "execution_count": 12,
   "id": "8bbcdacb-a0d5-4644-a9a5-0ec289c0cd37",
   "metadata": {},
   "outputs": [
    {
     "name": "stdout",
     "output_type": "stream",
     "text": [
      "Passed\n"
     ]
    }
   ],
   "source": [
    "if x>=50:\n",
    "    print('Passed')"
   ]
  },
  {
   "cell_type": "code",
   "execution_count": 14,
   "id": "b9e32468-8f29-4fb2-9b5a-4db7b3be7262",
   "metadata": {},
   "outputs": [
    {
     "name": "stdout",
     "output_type": "stream",
     "text": [
      "Boom\n"
     ]
    }
   ],
   "source": [
    "if x>50:\n",
    "    print('Passed')\n",
    "if x==50:\n",
    "    print('Boom')\n",
    "if x<50:\n",
    "    print('Passed')"
   ]
  },
  {
   "cell_type": "code",
   "execution_count": 16,
   "id": "b7263e49-3922-4270-80df-ec24a9d9c130",
   "metadata": {},
   "outputs": [
    {
     "name": "stdout",
     "output_type": "stream",
     "text": [
      "failed\n"
     ]
    }
   ],
   "source": [
    "if x>50:\n",
    "    print('Passed')\n",
    "else:\n",
    "    print('failed')\n"
   ]
  },
  {
   "cell_type": "markdown",
   "id": "02ee9bbf-e8d0-4a39-a49f-18b3d44038d1",
   "metadata": {},
   "source": [
    "# WAP to accept an integer from the user and check whether it is odd or even"
   ]
  },
  {
   "cell_type": "code",
   "execution_count": 18,
   "id": "a002e3a0-4e60-4d7d-ad61-241cdd3dce80",
   "metadata": {},
   "outputs": [
    {
     "name": "stdin",
     "output_type": "stream",
     "text": [
      "enter number 26\n"
     ]
    },
    {
     "name": "stdout",
     "output_type": "stream",
     "text": [
      "even\n"
     ]
    }
   ],
   "source": [
    "a= int(input('enter number'))\n",
    "if a%2==0:\n",
    "    print('even')\n",
    "else:\n",
    "     print('odd')"
   ]
  },
  {
   "cell_type": "code",
   "execution_count": 19,
   "id": "2b4a4f40-ccbe-4d59-ace0-02721c9e5feb",
   "metadata": {},
   "outputs": [
    {
     "name": "stdin",
     "output_type": "stream",
     "text": [
      "enter number 25\n"
     ]
    },
    {
     "name": "stdout",
     "output_type": "stream",
     "text": [
      "odd\n"
     ]
    }
   ],
   "source": [
    "a= int(input('enter number'))\n",
    "if a%2==0:\n",
    "    print('even')\n",
    "else:\n",
    "     print('odd')"
   ]
  },
  {
   "cell_type": "markdown",
   "id": "94545240-f7ff-4e51-a3ee-40610e015ffc",
   "metadata": {},
   "source": [
    "# WAP to accept a character from the user and check whether it is a capital letter or small letter. Assume user will input only alphabets"
   ]
  },
  {
   "cell_type": "code",
   "execution_count": 20,
   "id": "f57725f3-cc62-44d5-a8f3-c8c26a496151",
   "metadata": {},
   "outputs": [
    {
     "name": "stdin",
     "output_type": "stream",
     "text": [
      "any character W\n"
     ]
    },
    {
     "name": "stdout",
     "output_type": "stream",
     "text": [
      "W is an uppercase character\n"
     ]
    }
   ],
   "source": [
    "x=input('any character')\n",
    "if x>='A' and x<='Z':\n",
    "    print(x, 'is an uppercase character')\n",
    "else:\n",
    "    print(x, 'is a lowercase character')"
   ]
  },
  {
   "cell_type": "code",
   "execution_count": 24,
   "id": "4c8530e5-db04-47ba-9d82-83cc80f64e70",
   "metadata": {},
   "outputs": [
    {
     "name": "stdin",
     "output_type": "stream",
     "text": [
      "any character l\n"
     ]
    },
    {
     "name": "stdout",
     "output_type": "stream",
     "text": [
      "l is a small letter\n"
     ]
    }
   ],
   "source": [
    "x=input('any character')\n",
    "if 'A'<=x<='Z':\n",
    "    print(x, 'is a capital letter')\n",
    "else:\n",
    "    print(x, 'is a small letter')"
   ]
  },
  {
   "cell_type": "markdown",
   "id": "562ba96a-38fd-4ce5-a6e6-f576dbf7ed79",
   "metadata": {},
   "source": [
    "# nested if: if inside if"
   ]
  },
  {
   "cell_type": "code",
   "execution_count": 2,
   "id": "6568143a-b1bb-4548-be95-8d19b465bad7",
   "metadata": {},
   "outputs": [],
   "source": [
    "x=100\n",
    "y=200"
   ]
  },
  {
   "cell_type": "code",
   "execution_count": 4,
   "id": "c71c9888-ba44-4a72-ba48-47c8a961a6b8",
   "metadata": {},
   "outputs": [
    {
     "name": "stdout",
     "output_type": "stream",
     "text": [
      "correct\n"
     ]
    }
   ],
   "source": [
    "if x<110:\n",
    "    if y>199:\n",
    "        print('correct')"
   ]
  },
  {
   "cell_type": "markdown",
   "id": "f9f59bad-8d2c-42b9-8a3d-61f601d2d5ee",
   "metadata": {},
   "source": [
    "# WAP to accept 3 integers from the user and without using any logical operator and cascading of relational operators , find out the greatest number amongst them"
   ]
  },
  {
   "cell_type": "code",
   "execution_count": 11,
   "id": "cf7ccca4-3f4c-47ce-bbcb-29bb988a4d31",
   "metadata": {},
   "outputs": [
    {
     "name": "stdin",
     "output_type": "stream",
     "text": [
      "enter first number: 13\n",
      "enter second number: 16\n",
      "enter third number: 19\n"
     ]
    },
    {
     "name": "stdout",
     "output_type": "stream",
     "text": [
      "c is the greatest no.\n"
     ]
    }
   ],
   "source": [
    "a=int(input('enter first number:'))\n",
    "b=int(input('enter second number:'))\n",
    "c=int(input('enter third number:'))\n",
    "if (a>b):\n",
    "    if(a>c):\n",
    "      print('a is the greatest no.')\n",
    "if (b>a):\n",
    "    if (b>c):\n",
    "     print('b is the greatest no.')\n",
    "if (c>a):\n",
    "    if(c>b):\n",
    "        print('c is the greatest no.')"
   ]
  },
  {
   "cell_type": "markdown",
   "id": "d3a80da1-b939-4b9f-b934-67f6e0f735ca",
   "metadata": {},
   "source": [
    "# Loops"
   ]
  },
  {
   "cell_type": "code",
   "execution_count": 13,
   "id": "837b98c8-596d-4ff9-b357-923749b990fb",
   "metadata": {},
   "outputs": [
    {
     "name": "stdout",
     "output_type": "stream",
     "text": [
      "pratyush\n",
      "pratyush\n"
     ]
    }
   ],
   "source": [
    "x=5\n",
    "i=1\n",
    "while i<x:\n",
    "    print('pratyush')\n",
    "    i=i+2"
   ]
  },
  {
   "cell_type": "markdown",
   "id": "b84b56ad-901c-4993-a2a5-f57f38726e63",
   "metadata": {},
   "source": [
    "# Print 50 natural numbers"
   ]
  },
  {
   "cell_type": "code",
   "execution_count": 14,
   "id": "d2e16d09-0f5b-4da5-b788-ed9036270868",
   "metadata": {},
   "outputs": [
    {
     "name": "stdout",
     "output_type": "stream",
     "text": [
      "1\n",
      "2\n",
      "3\n",
      "4\n",
      "5\n",
      "6\n",
      "7\n",
      "8\n",
      "9\n",
      "10\n",
      "11\n",
      "12\n",
      "13\n",
      "14\n",
      "15\n",
      "16\n",
      "17\n",
      "18\n",
      "19\n",
      "20\n",
      "21\n",
      "22\n",
      "23\n",
      "24\n",
      "25\n",
      "26\n",
      "27\n",
      "28\n",
      "29\n",
      "30\n",
      "31\n",
      "32\n",
      "33\n",
      "34\n",
      "35\n",
      "36\n",
      "37\n",
      "38\n",
      "39\n",
      "40\n",
      "41\n",
      "42\n",
      "43\n",
      "44\n",
      "45\n",
      "46\n",
      "47\n",
      "48\n",
      "49\n",
      "50\n"
     ]
    }
   ],
   "source": [
    "i=1\n",
    "while i<51:\n",
    "    print (i)\n",
    "    i=i+1"
   ]
  },
  {
   "cell_type": "markdown",
   "id": "32c0fbd6-3b89-42e6-ad9f-a0fdf4f25e3f",
   "metadata": {},
   "source": [
    "# WAP to accept a string from the user and display it vertically but don't display the vowels\n",
    "# Use while loop"
   ]
  },
  {
   "cell_type": "code",
   "execution_count": 20,
   "id": "a96e0d90-6236-4bfb-b33b-7e649ea2ab95",
   "metadata": {},
   "outputs": [
    {
     "name": "stdin",
     "output_type": "stream",
     "text": [
      "enter a word: Pratyush Anand\n"
     ]
    },
    {
     "name": "stdout",
     "output_type": "stream",
     "text": [
      "P\n",
      "r\n",
      "t\n",
      "y\n",
      "s\n",
      "h\n",
      " \n",
      "n\n",
      "n\n",
      "d\n"
     ]
    }
   ],
   "source": [
    "a= input('enter a word:')\n",
    "i=0\n",
    "while i<len(a):\n",
    "    if a[i] not in 'aeiouAEIOU':\n",
    "        print(a[i])\n",
    "    i+=1\n",
    "    "
   ]
  },
  {
   "cell_type": "code",
   "execution_count": null,
   "id": "2ba795ec-9b96-4712-ae3a-4299f923e071",
   "metadata": {},
   "outputs": [],
   "source": []
  }
 ],
 "metadata": {
  "kernelspec": {
   "display_name": "Python 3 (ipykernel)",
   "language": "python",
   "name": "python3"
  },
  "language_info": {
   "codemirror_mode": {
    "name": "ipython",
    "version": 3
   },
   "file_extension": ".py",
   "mimetype": "text/x-python",
   "name": "python",
   "nbconvert_exporter": "python",
   "pygments_lexer": "ipython3",
   "version": "3.10.6"
  }
 },
 "nbformat": 4,
 "nbformat_minor": 5
}
